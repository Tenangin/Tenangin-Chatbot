{
 "cells": [
  {
   "cell_type": "code",
   "execution_count": 1,
   "id": "020ac373",
   "metadata": {},
   "outputs": [],
   "source": [
    "from langsmith import traceable\n",
    "from langchain.chat_models import init_chat_model\n",
    "from dotenv import load_dotenv\n",
    "import os\n",
    "\n",
    "load_dotenv()\n",
    "\n",
    "api_key = os.getenv(\"GEMINI_API_KEY\")\n",
    "if api_key is None:\n",
    "    raise ValueError(\"Please set the GOOGLE_GENAI_API_KEY environment variable.\")\n",
    "\n",
    "os.environ[\"LANGSMITH_TRACING_V2\"] = os.getenv(\"LANGSMITH_TRACING\", \"true\")\n",
    "os.environ[\"LANGSMITH_API_KEY\"] = os.getenv(\"LANGSMITH_API_KEY\")\n",
    "os.environ[\"LANGSMITH_PROJECT\"] = os.getenv(\"LANGSMITH_PROJECT\")\n",
    "\n",
    "llm = init_chat_model(\n",
    "    \"gemini-2.0-flash\",\n",
    "    model_provider=\"google_genai\",\n",
    "    api_key=api_key\n",
    "  )\n"
   ]
  },
  {
   "cell_type": "code",
   "execution_count": 38,
   "id": "50f6c283",
   "metadata": {},
   "outputs": [],
   "source": [
    "from langchain.prompts import PromptTemplate\n",
    "\n",
    "prompt = PromptTemplate.from_template(\n",
    "\"\"\"\n",
    "Kamu adalah Teno, seorang konselor profesional yang penuh empati. Tugasmu adalah merespons dengan cara singkat, manusiawi, dan berfokus langsung pada inti masalah pengguna.\n",
    "Gunakan bahasa sederhana, suportif, dan hindari kesan menggurui.\n",
    "\n",
    "Informasi tambahan (jika ada): \n",
    "{context}\n",
    "\n",
    "Pertanyaan dari pengguna:\n",
    "{question}\n",
    "\n",
    "Percakapan sebelumnya:\n",
    "{history}\n",
    "\n",
    "Berikan pemahaman atau dukungan yang hangat, lalu akhiri dengan kalimat yang membuka ruang agar pengguna mau berbagi lebih banyak atau memperdalam pembicaraan.\n",
    "\"\"\"\n",
    ")\n"
   ]
  },
  {
   "cell_type": "code",
   "execution_count": 3,
   "id": "f923b7f7",
   "metadata": {},
   "outputs": [
    {
     "name": "stderr",
     "output_type": "stream",
     "text": [
      "d:\\CODING\\PYTHON\\MACHINE_LEARNING\\Tenangin\\.venv\\Lib\\site-packages\\tqdm\\auto.py:21: TqdmWarning: IProgress not found. Please update jupyter and ipywidgets. See https://ipywidgets.readthedocs.io/en/stable/user_install.html\n",
      "  from .autonotebook import tqdm as notebook_tqdm\n",
      "d:\\CODING\\PYTHON\\MACHINE_LEARNING\\Tenangin\\.venv\\Lib\\site-packages\\transformers\\utils\\hub.py:105: FutureWarning: Using `TRANSFORMERS_CACHE` is deprecated and will be removed in v5 of Transformers. Use `HF_HOME` instead.\n",
      "  warnings.warn(\n"
     ]
    }
   ],
   "source": [
    "from sentence_transformers import SentenceTransformer\n",
    "from langchain.embeddings.base import Embeddings\n",
    "import torch\n",
    "\n",
    "# Load SBERT model dan pastikan menggunakan GPU jika tersedia\n",
    "device = 'cuda' if torch.cuda.is_available() else 'cpu'\n",
    "sbert_model = model = SentenceTransformer('naufalihsan/indonesian-sbert-large')\n",
    "sbert_model = sbert_model.to(device)  # Pindahkan model ke GPU (jika ada)\n",
    "\n",
    "# Custom embeddings class for SBERT\n",
    "class SBERTEmbeddings(Embeddings):\n",
    "    def embed_documents(self, texts: list[str]) -> list[list[float]]:\n",
    "        # Menggunakan model SBERT untuk menghasilkan embeddings\n",
    "        embeddings = sbert_model.encode(texts, convert_to_tensor=True, show_progress_bar=True)\n",
    "        embeddings = embeddings.to(device)  # Pindahkan embeddings ke GPU (jika ada)\n",
    "        return embeddings.cpu().numpy().tolist()  # Pindahkan kembali ke CPU untuk konversi\n",
    "\n",
    "    def embed_query(self, query: str) -> list[float]:\n",
    "        # Menghasilkan embedding untuk query\n",
    "        embedding = sbert_model.encode(query, convert_to_tensor=True)\n",
    "        embedding = embedding.to(device)  # Pindahkan embedding ke GPU (jika ada)\n",
    "        return embedding.cpu().numpy().tolist()  # Pindahkan kembali ke CPU untuk konversi\n",
    "\n",
    "# Inisialisasi embeddings SBERT dan FAISS vector store\n",
    "sbert_embeddings = SBERTEmbeddings()"
   ]
  },
  {
   "cell_type": "code",
   "execution_count": 4,
   "id": "f371ac5d",
   "metadata": {},
   "outputs": [],
   "source": [
    "def serialize_context(context_list):\n",
    "    serialized = \"\"\n",
    "    for idx, doc in enumerate(context_list, start=1):\n",
    "        serialized += f\"[Dokumen {idx}]\\nJudul: {doc['BAB']}\\nIsi: {doc['isi']}\\n\\n\"\n",
    "    return serialized\n"
   ]
  },
  {
   "cell_type": "code",
   "execution_count": 39,
   "id": "ceeb8329",
   "metadata": {},
   "outputs": [],
   "source": [
    "from langgraph.graph import START, StateGraph\n",
    "from typing_extensions import List, TypedDict\n",
    "from langchain_core.documents import Document\n",
    "from langchain.vectorstores import FAISS\n",
    "from langsmith import traceable\n",
    "\n",
    "GREETINGS = [\"halo\", \"assalamualaikum\", \"selamat malam\", \"apa kabar\", \"makasih\", \"terima kasih\", \"hai\", \"dadah\", \"hi\"]\n",
    "vector_store = FAISS.load_local(\"Embeddings_chonkie\",sbert_embeddings,allow_dangerous_deserialization=True)\n",
    "\n",
    "\n",
    "# Define state for application\n",
    "class State(TypedDict):\n",
    "    question: str\n",
    "    context: List[Document]\n",
    "    answer: str\n",
    "    history : list[str]\n",
    "\n",
    "def is_greeting(state: State) -> bool:\n",
    "    return any(greeting in state[\"question\"].lower() for greeting in GREETINGS)\n",
    "\n",
    "\n",
    "def retrieve(state: State):\n",
    "    if is_greeting(state):\n",
    "        return {\"context\": []}  \n",
    "    retrieved_docs = vector_store.similarity_search(state[\"question\"],k=2)\n",
    "    return {\"context\": retrieved_docs}\n",
    "\n",
    "def generate(state: State):\n",
    "    # Serialize context dari retrieval\n",
    "    docs_content = [\n",
    "        {\n",
    "            \"BAB\": doc.metadata.get(\"bab\", \"Tidak diketahui\"),\n",
    "            \"isi\": doc.page_content\n",
    "        }\n",
    "        for doc in state[\"context\"]\n",
    "    ]\n",
    "    serialized_context = serialize_context(docs_content)\n",
    "\n",
    "    # Gabungkan history\n",
    "    history_text = \"\\n\".join(state.get(\"history\", []))  # kalau kosong, default []\n",
    "\n",
    "    # Siapin message yang lengkap: ada history + question sekarang\n",
    "    messages = prompt.invoke({\n",
    "        \"history\": history_text,\n",
    "        \"question\": state[\"question\"],\n",
    "        \"context\": serialized_context\n",
    "    })\n",
    "\n",
    "    response = llm.invoke(messages)\n",
    "    \n",
    "    # Update history, nambahin pertanyaan baru ke list\n",
    "    if(len(state.get(\"history\", []))>3):\n",
    "        state['history'].pop(0)\n",
    "    updated_history = state.get(\"history\", []) + [f\"User: {state['question']}\", f\"AI: {response.content}\"]\n",
    "\n",
    "    return {\n",
    "        \"answer\": response.content,\n",
    "        \"history\": updated_history  # ⬅️ penting, biar state update!\n",
    "    }\n",
    "\n",
    "\n",
    "\n",
    "# Compile application and test\n",
    "graph_builder = StateGraph(State).add_sequence([retrieve, generate])\n",
    "graph_builder.add_edge(START, \"retrieve\")\n",
    "graph = graph_builder.compile()"
   ]
  },
  {
   "cell_type": "code",
   "execution_count": 22,
   "id": "c4a2632d",
   "metadata": {},
   "outputs": [
    {
     "data": {
      "text/plain": [
       "[Document(id='640933ae-1c45-4749-8223-8574e79d0967', metadata={'bab': 'BAB X NARKOTIKA, PSIKOTROPIKA DAN ZAT ADIKTIF'}, page_content='\"sakaw\" dari masing-masing obat berbeda tergantung dari jenis obatnya.(https://zulliesikawati.wordpress.com/?s=adiksi)\\n10.2 Narkotika\\nNarkotika berasal dari kata narkose (Yunani) yang artinya menidurkan atau membius, namun demikian narkotika bukan obat bius dan awalnya mengacu pada berbagai zat yang menumpulkan indra dan menghilangkan rasa sakit. Narkotika menekan saraf pusat sehingga menghasilkan efek penurunan sensitivitas terhadap rasa sakit dan aktivitas fisik, menimbulkan rasa kantuk.\\nMenurut Undang-undang nomor 35 tahun 2009, narkotika adalah zat atau obat yang berasal dari tanaman atau bukan tanaman baik sintetis maupun semi sintetis yang dapat menyebabkan penurunan atau perubahan kesadaran, hilangnya rasa, mengurangi sampai menghilangkan rasa nyeri, dan dapat menimbulkan ketergantungan.\\nNarkotika dapat berasal dari bahan alami seperti golongan opium, dan sintetis. Narkotika sintetis antara lain: fentanyl, metadon, dekstropropoksifen, pethidin.\\n10.2.1 Ganja\\nGanja merupakan salah satu narkotika golongan I yaitu narkotika yang hanya dapat digunakan untuk kepentingan pengembangan ilmu pengetahuan dan dilarang digunakan untuk kepentingan lainnya, sesuai Undang-Undang Narkotika nomor 35 tahun 2009, pasal 5.\\nGanja adalah tanaman penghasil produk kanabis. Ganja dan produknya disebut juga bhang, hashish, mariyuana, marihuana dll. Yang disebut marijuana biasanya merupakan campuran daun dan bagian atas bunga. Sedangkan hashish dan charas biasanya berupa resin.\\nKanabis mengandung lebih dari 60 senyawa yang disebut kanabinoid. Empat kandungan utamanya adalah ?-9-\\ntetrahydrocannabinol (THC), Cannabinol (CBN), Cannabidiol (CBD), Cannabichromene(CBCh). Kandungan THC terdapat di seluruh bagian tanaman, bervariasi tergantung pada bagian tanaman termasuk akar. Tetrahydrocannabinol (THC) merupakan kanabinoid yang mempunyai efek psikologik paling kuat dari produk kanabis. Bentuk-bentuk kanabis ada 3 yang berbeda kandungan tetrahydro cannabinol nya yaitu marijuana (produk herbal), dengan kandungan THC 0,5-5 %, resin kanabis : 2-10 %, dan kanabis cair (hashish oil) 10-30 % (Departemen Kesehatan dan BNN, 2008).\\nGanja biasanya digunakan dengan cara dihisap atau sebagai rokok. '),\n",
       " Document(id='c9c59177-4ac5-49c5-b126-5e77d3eff1b1', metadata={'bab': None}, page_content='Ini karena konsentrasi dan fungsi pendengaran orang tua telah memburuk. Melakukan kontak mata atau saling memandang adalah cara terbaik untuk berkomunikasi dengan penyedia layanan lanjut usia. Lansia dapat membaca gerak bibir orang lain dengan melakukan kontak mata, sehingga memudahkan mereka memahami apa yang dikatakan orang lain dan mengatasi gangguan pendengaran. Sikap hangat dalam berkomunikasi akan menimbulkan rasa aman dan penerimaan, memungkinkan lansia merasa dihargai dan lebih bahagia (Azizah, 2011 dalam Pranata et al., 2021).\\n5. Pemecahan masalah\\nJumlah masalah yang dihadapi senior semakin meningkat. ')]"
      ]
     },
     "execution_count": 22,
     "metadata": {},
     "output_type": "execute_result"
    }
   ],
   "source": [
    "vector_store.similarity_search(\"halo\", k=2)"
   ]
  },
  {
   "cell_type": "code",
   "execution_count": 40,
   "id": "a54f2603",
   "metadata": {},
   "outputs": [
    {
     "name": "stdout",
     "output_type": "stream",
     "text": [
      "Anda    : halo\n",
      "Gemini  : Halo juga! Apa yang sedang kamu rasakan atau pikirkan saat ini? Ceritakan saja, aku di sini untuk mendengarkan.\n",
      "Context : []\n"
     ]
    }
   ],
   "source": [
    "response = graph.invoke({\"question\": \"halo\"})\n",
    "print(f\"Anda    : {response['question']}\")\n",
    "print(f\"Gemini  : {response['answer']}\")\n",
    "print(f\"Context : {response['context']}\")"
   ]
  }
 ],
 "metadata": {
  "kernelspec": {
   "display_name": ".venv",
   "language": "python",
   "name": "python3"
  },
  "language_info": {
   "codemirror_mode": {
    "name": "ipython",
    "version": 3
   },
   "file_extension": ".py",
   "mimetype": "text/x-python",
   "name": "python",
   "nbconvert_exporter": "python",
   "pygments_lexer": "ipython3",
   "version": "3.12.2"
  }
 },
 "nbformat": 4,
 "nbformat_minor": 5
}
