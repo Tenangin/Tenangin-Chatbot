{
 "cells": [
  {
   "cell_type": "code",
   "execution_count": null,
   "id": "020ac373",
   "metadata": {},
   "outputs": [],
   "source": [
    "from langsmith import traceable\n",
    "from langchain.chat_models import init_chat_model\n",
    "from dotenv import load_dotenv\n",
    "import os\n",
    "\n",
    "load_dotenv()\n",
    "\n",
    "api_key = os.getenv(\"GEMINI_API_KEY\")\n",
    "if api_key is None:\n",
    "    raise ValueError(\"Please set the GOOGLE_GENAI_API_KEY environment variable.\")\n",
    "\n",
    "os.environ[\"LANGSMITH_TRACING_V2\"] = os.getenv(\"LANGSMITH_TRACING\", \"true\")\n",
    "os.environ[\"LANGSMITH_API_KEY\"] = os.getenv(\"LANGSMITH_API_KEY\")\n",
    "os.environ[\"LANGSMITH_PROJECT\"] = os.getenv(\"LANGSMITH_PROJECT\")\n",
    "\n",
    "llm = init_chat_model(\n",
    "    \"gemini-2.0-flash\",\n",
    "    model_provider=\"google_genai\",\n",
    "    api_key=api_key\n",
    "  )\n"
   ]
  },
  {
   "cell_type": "code",
   "execution_count": 9,
   "id": "50f6c283",
   "metadata": {},
   "outputs": [],
   "source": [
    "from langchain.prompts import PromptTemplate\n",
    "\n",
    "prompt = PromptTemplate.from_template(\n",
    "\"\"\"\n",
    "Kamu adalah konselor profesional yang penuh empati. Berdasarkan konteks berikut, berikan respons singkat, manusiawi, dan berfokus pada inti masalah pengguna.\n",
    "Gunakan bahasa yang sederhana, suportif, dan tidak menggurui.\n",
    "\n",
    "Informasi tambahan: \n",
    "{context}\n",
    "\n",
    "Pertanyaan dari pengguna:\n",
    "{question}\n",
    "\n",
    "Setelah memberikan sedikit pemahaman atau dukungan, akhiri dengan kalimat yang membuka ruang untuk pengguna berbagi lebih banyak atau memperdalam pembicaraan.\n",
    "\"\"\"\n",
    ")\n"
   ]
  },
  {
   "cell_type": "code",
   "execution_count": 11,
   "id": "f923b7f7",
   "metadata": {},
   "outputs": [
    {
     "name": "stderr",
     "output_type": "stream",
     "text": [
      "d:\\CODING\\PYTHON\\MACHINE_LEARNING\\Tenangin\\.venv\\Lib\\site-packages\\tqdm\\auto.py:21: TqdmWarning: IProgress not found. Please update jupyter and ipywidgets. See https://ipywidgets.readthedocs.io/en/stable/user_install.html\n",
      "  from .autonotebook import tqdm as notebook_tqdm\n",
      "d:\\CODING\\PYTHON\\MACHINE_LEARNING\\Tenangin\\.venv\\Lib\\site-packages\\transformers\\utils\\hub.py:105: FutureWarning: Using `TRANSFORMERS_CACHE` is deprecated and will be removed in v5 of Transformers. Use `HF_HOME` instead.\n",
      "  warnings.warn(\n"
     ]
    }
   ],
   "source": [
    "from sentence_transformers import SentenceTransformer\n",
    "from langchain.embeddings.base import Embeddings\n",
    "import torch\n",
    "\n",
    "# Load SBERT model dan pastikan menggunakan GPU jika tersedia\n",
    "device = 'cuda' if torch.cuda.is_available() else 'cpu'\n",
    "sbert_model = model = SentenceTransformer('naufalihsan/indonesian-sbert-large')\n",
    "sbert_model = sbert_model.to(device)  # Pindahkan model ke GPU (jika ada)\n",
    "\n",
    "# Custom embeddings class for SBERT\n",
    "class SBERTEmbeddings(Embeddings):\n",
    "    def embed_documents(self, texts: list[str]) -> list[list[float]]:\n",
    "        # Menggunakan model SBERT untuk menghasilkan embeddings\n",
    "        embeddings = sbert_model.encode(texts, convert_to_tensor=True, show_progress_bar=True)\n",
    "        embeddings = embeddings.to(device)  # Pindahkan embeddings ke GPU (jika ada)\n",
    "        return embeddings.cpu().numpy().tolist()  # Pindahkan kembali ke CPU untuk konversi\n",
    "\n",
    "    def embed_query(self, query: str) -> list[float]:\n",
    "        # Menghasilkan embedding untuk query\n",
    "        embedding = sbert_model.encode(query, convert_to_tensor=True)\n",
    "        embedding = embedding.to(device)  # Pindahkan embedding ke GPU (jika ada)\n",
    "        return embedding.cpu().numpy().tolist()  # Pindahkan kembali ke CPU untuk konversi\n",
    "\n",
    "# Inisialisasi embeddings SBERT dan FAISS vector store\n",
    "sbert_embeddings = SBERTEmbeddings()"
   ]
  },
  {
   "cell_type": "code",
   "execution_count": 12,
   "id": "f371ac5d",
   "metadata": {},
   "outputs": [],
   "source": [
    "def serialize_context(context_list):\n",
    "    serialized = \"\"\n",
    "    for idx, doc in enumerate(context_list, start=1):\n",
    "        serialized += f\"[Dokumen {idx}]\\nJudul: {doc['BAB']}\\nIsi: {doc['isi']}\\n\\n\"\n",
    "    return serialized\n"
   ]
  },
  {
   "cell_type": "code",
   "execution_count": 22,
   "id": "ceeb8329",
   "metadata": {},
   "outputs": [],
   "source": [
    "from langgraph.graph import START, StateGraph\n",
    "from typing_extensions import List, TypedDict\n",
    "from langchain_core.documents import Document\n",
    "from langchain.vectorstores import FAISS\n",
    "from langsmith import traceable\n",
    "\n",
    "\n",
    "vector_store = FAISS.load_local(\"Embeddings\",sbert_embeddings,allow_dangerous_deserialization=True)\n",
    "\n",
    "\n",
    "# Define state for application\n",
    "class State(TypedDict):\n",
    "    question: str\n",
    "    context: List[Document]\n",
    "    answer: str\n",
    "\n",
    "\n",
    "def retrieve(state: State):\n",
    "    retrieved_docs = vector_store.similarity_search(state[\"question\"],k=2)\n",
    "    return {\"context\": retrieved_docs}\n",
    "\n",
    "def generate(state: State):\n",
    "    docs_content = [\n",
    "    {\n",
    "        \"BAB\": doc.metadata.get(\"bab\", \"Tidak diketahui\"),\n",
    "        \"isi\": doc.page_content\n",
    "    }\n",
    "    for doc in state[\"context\"]\n",
    "   ]\n",
    "    serialized_context = serialize_context(docs_content)\n",
    "    messages = prompt.invoke({\"question\": state[\"question\"], \"context\": serialized_context})\n",
    "    response = llm.invoke(messages)\n",
    "    return {\"answer\": response.content}\n",
    "\n",
    "\n",
    "# Compile application and test\n",
    "graph_builder = StateGraph(State).add_sequence([retrieve, generate])\n",
    "graph_builder.add_edge(START, \"retrieve\")\n",
    "graph = graph_builder.compile()"
   ]
  },
  {
   "cell_type": "code",
   "execution_count": 23,
   "id": "a54f2603",
   "metadata": {},
   "outputs": [
    {
     "name": "stdout",
     "output_type": "stream",
     "text": [
      "Anda    : saya merasa kesepian, bagaimana cara mengatasinya?\n",
      "Gemini  : Kesepian itu berat ya. Dari yang kamu ceritakan, sepertinya kamu sedang merasa terisolasi dan butuh koneksi. Penting untuk diingat bahwa perasaan ini wajar dan banyak orang mengalaminya.\n",
      "\n",
      "Mencari cara untuk terhubung kembali dengan orang lain bisa membantu. Mungkin dengan menghubungi teman lama, mengikuti kegiatan yang kamu sukai, atau mencari komunitas yang memiliki minat yang sama. Ingat, langkah kecil pun tetap langkah maju.\n",
      "\n",
      "Apakah ada hal spesifik yang membuatmu merasa kesepian akhir-akhir ini? Atau adakah hal yang sudah kamu coba lakukan untuk mengatasinya? Ceritakan lebih banyak, ya. Aku di sini untuk mendengarkan.\n",
      "Context : [Document(id='4c03f4c2-009f-4e0e-9236-09a5e52769c8', metadata={'bab': 'BAB VIII MOOD DAN BUNUH DIRI'}, page_content='Kebanyakan orang yang melakukan bunuh diri memiliki gangguan mood, dan mereka yang menderita gangguan mood memiliki risiko kematian akibat bunuh diri yang lebih tinggi daripada populasi lainnya (Nierenberg, 2001). Gangguan mood adalah disfungsi neurobiologi yang menyebabkan perubahan respons emosional. Gangguan mood mengganggu kehidupan seseorang. Orang-orang dipenuhi dengan kesedihan, kegembiraan atau kegembiraan yang berkepanjangan dan intens, disertai dengan keraguan diri, rasa bersalah dan kemarahan, yang mengubah aktivitas hidup mereka, terutama aktivitas yang berkaitan dengan harga diri, pekerjaan, dan hubungan (Videbeck, 2011), dan ketika kondisi ini berlangsung lama dan terus menerus, orang bisa mengalami keputusasaan dan bunuh diri.\\nKematian akibat bunuh diri dapat dicegah dan dapat mengurangi kejadian bunuh diri. Memahami, mendeteksi, dan mengobati gangguan mood dapat digunakan sebagai dasar\\npencegahan bunuh diri. Bab ini membahas gangguan mood dan bunuh diri.\\n8.2 Pengertian'), Document(id='fe479e83-542a-4565-8338-ea5404c00a4e', metadata={'bab': 'BAB II MENGENALI MASALAH'}, page_content='Manusia perlu memiliki ketahanan diri yang baik terhadap penyikapan dan penyelesaian konflik yang dihadapi, faktanya banyak sekali individu yang masih memendam emosional dan masalahnya sendiri. Permasalahan tersebut bukannya terselesaikan malah mengakibatkan dirinya menjadi stress, emosional tidak stabil, kondisi abnormal, depresi, self harm (menyakiti diri sendiri), dan Suicide (mengakhiri hidup). Dampak tersebut terjadi pada individu yang tidak mampu mengatasi permasalahan dirinya dan semakin bertambah konflik pada  dirinya. Maka  perlu sekali mengenali\\nmasalah, mengatasi masalah, sampai pada penyelesaian masalah dan penyembuhan diri.\\nMengenal Konflik\\n1. Konflik dengan orang lain')]\n"
     ]
    }
   ],
   "source": [
    "response = graph.invoke({\"question\": \"saya merasa kesepian, bagaimana cara mengatasinya?\"})\n",
    "print(f\"Anda    : {response['question']}\")\n",
    "print(f\"Gemini  : {response['answer']}\")\n",
    "print(f\"Context : {response['context']}\")"
   ]
  }
 ],
 "metadata": {
  "kernelspec": {
   "display_name": ".venv",
   "language": "python",
   "name": "python3"
  },
  "language_info": {
   "codemirror_mode": {
    "name": "ipython",
    "version": 3
   },
   "file_extension": ".py",
   "mimetype": "text/x-python",
   "name": "python",
   "nbconvert_exporter": "python",
   "pygments_lexer": "ipython3",
   "version": "3.12.2"
  }
 },
 "nbformat": 4,
 "nbformat_minor": 5
}
